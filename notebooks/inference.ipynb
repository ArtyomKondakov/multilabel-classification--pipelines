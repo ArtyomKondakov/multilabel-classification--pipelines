{
 "cells": [
  {
   "cell_type": "code",
   "execution_count": null,
   "id": "e377b576",
   "metadata": {},
   "outputs": [],
   "source": [
    "%load_ext autoreload\n",
    "%autoreload 2"
   ]
  },
  {
   "cell_type": "code",
   "execution_count": null,
   "id": "b6bb7090",
   "metadata": {},
   "outputs": [],
   "source": [
    "from IPython.core.interactiveshell import InteractiveShell\n",
    "InteractiveShell.ast_node_interactivity = 'all'\n",
    "\n",
    "import warnings\n",
    "warnings.simplefilter('ignore')\n",
    "\n",
    "import gc\n",
    "\n",
    "from os import path\n",
    "import sys\n",
    "sys.path.append(path.abspath('..'))"
   ]
  },
  {
   "cell_type": "code",
   "execution_count": null,
   "id": "29dff247",
   "metadata": {},
   "outputs": [],
   "source": [
    "import os\n",
    "import cv2\n",
    "import torch\n",
    "import pandas as pd\n",
    "from PIL import Image\n",
    "from pprint import pprint\n",
    "import albumentations as albu\n",
    "from albumentations.pytorch import ToTensorV2\n",
    "\n",
    "from src.lightning_module import PosterModule"
   ]
  },
  {
   "cell_type": "code",
   "execution_count": null,
   "id": "f100b5d8",
   "metadata": {},
   "outputs": [],
   "source": [
    "DEVICE = 'cuda:0'"
   ]
  },
  {
   "cell_type": "code",
   "execution_count": null,
   "id": "247496b6",
   "metadata": {},
   "outputs": [],
   "source": [
    "# Загружаем модель\n",
    "\n",
    "checkpoint_name = '../experiments/exp1/epoch_epoch=05-val_f1=0.132.ckpt'\n",
    "module = PosterModule.load_from_checkpoint(checkpoint_name)\n",
    "\n",
    "_ = module.eval()\n",
    "_ = module.to(DEVICE)"
   ]
  },
  {
   "cell_type": "code",
   "execution_count": null,
   "id": "1139373f",
   "metadata": {},
   "outputs": [],
   "source": [
    "DATA_FOLDER = '/home/sergey/sdb3/datasets/Multi_Label_dataset/'\n",
    "!ls {DATA_FOLDER}"
   ]
  },
  {
   "cell_type": "code",
   "execution_count": null,
   "id": "ed8cfc39",
   "metadata": {
    "scrolled": true
   },
   "outputs": [],
   "source": [
    "# Загружаем данные\n",
    "df = pd.read_csv(os.path.join(DATA_FOLDER, 'df_test.csv'))\n",
    "names = list(df.columns[1:])\n",
    "names\n",
    "df.head()"
   ]
  },
  {
   "cell_type": "code",
   "execution_count": null,
   "id": "c77b5237",
   "metadata": {},
   "outputs": [],
   "source": [
    "# препроцессинг данных \n",
    "img_height = 224\n",
    "img_width = 224\n",
    "preprocess = albu.Compose(\n",
    "        [\n",
    "            albu.Resize(height=img_height, width=img_width),\n",
    "            albu.Normalize(),\n",
    "            ToTensorV2(),\n",
    "        ]\n",
    ")"
   ]
  },
  {
   "cell_type": "code",
   "execution_count": null,
   "id": "4d32d161",
   "metadata": {},
   "outputs": [],
   "source": [
    "idx = 0\n",
    "image_name = os.path.join(DATA_FOLDER, 'Images', f'{df[\"Id\"][idx]}.jpg')\n",
    "image = cv2.imread(image_name)[..., ::-1]\n",
    "Image.fromarray(image)"
   ]
  },
  {
   "cell_type": "code",
   "execution_count": null,
   "id": "0c10f4fc",
   "metadata": {},
   "outputs": [],
   "source": [
    "procecces_image = preprocess(image=image)['image']\n",
    "with torch.no_grad():\n",
    "    scores = torch.sigmoid(module(procecces_image[None].to(DEVICE)))[0].cpu().numpy()\n",
    "    \n",
    "pprint({n:s for s, n in zip(scores, names)})"
   ]
  },
  {
   "cell_type": "code",
   "execution_count": null,
   "id": "e8f91407",
   "metadata": {},
   "outputs": [],
   "source": []
  }
 ],
 "metadata": {
  "kernelspec": {
   "display_name": "Python 3 (ipykernel)",
   "language": "python",
   "name": "python3"
  },
  "language_info": {
   "codemirror_mode": {
    "name": "ipython",
    "version": 3
   },
   "file_extension": ".py",
   "mimetype": "text/x-python",
   "name": "python",
   "nbconvert_exporter": "python",
   "pygments_lexer": "ipython3",
   "version": "3.10.12"
  }
 },
 "nbformat": 4,
 "nbformat_minor": 5
}
